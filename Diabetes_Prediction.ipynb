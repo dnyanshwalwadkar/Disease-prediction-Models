{
  "nbformat": 4,
  "nbformat_minor": 0,
  "metadata": {
    "colab": {
      "name": "Diabetes Prediction.ipynb",
      "provenance": [],
      "collapsed_sections": []
    },
    "kernelspec": {
      "name": "python3",
      "display_name": "Python 3"
    }
  },
  "cells": [
    {
      "cell_type": "markdown",
      "metadata": {
        "id": "VZ6rBkMGwYah"
      },
      "source": [
        "# Diabetes Prediction using Logistic Regression"
      ]
    },
    {
      "cell_type": "markdown",
      "metadata": {
        "id": "qVA2tyaayJU6"
      },
      "source": [
        "### Importing Libraries"
      ]
    },
    {
      "cell_type": "code",
      "metadata": {
        "id": "Dh906bANKmVK"
      },
      "source": [
        "import pandas as pd\n",
        "import numpy as np\n",
        "from sklearn.model_selection import train_test_split\n",
        "from sklearn.linear_model import LogisticRegression\n",
        "from sklearn.metrics import jaccard_similarity_score\n",
        "from sklearn.metrics import mean_squared_error\n",
        "from sklearn.metrics import classification_report, confusion_matrix\n",
        "import matplotlib.pyplot as plt\n",
        "import seaborn as sns\n",
        "from sklearn.preprocessing import StandardScaler\n",
        "import itertools"
      ],
      "execution_count": 1,
      "outputs": []
    },
    {
      "cell_type": "markdown",
      "metadata": {
        "id": "Lrqso6ikyMfJ"
      },
      "source": [
        "### Getting Data"
      ]
    },
    {
      "cell_type": "code",
      "metadata": {
        "colab": {
          "base_uri": "https://localhost:8080/",
          "height": 402
        },
        "id": "bNML_bkiLOsn",
        "outputId": "3f8aa549-e9c0-4b47-9549-027fa95e68d0"
      },
      "source": [
        "df = pd.read_csv('/content/diabetes2.csv')\n",
        "df"
      ],
      "execution_count": 2,
      "outputs": [
        {
          "output_type": "execute_result",
          "data": {
            "text/html": [
              "<div>\n",
              "<style scoped>\n",
              "    .dataframe tbody tr th:only-of-type {\n",
              "        vertical-align: middle;\n",
              "    }\n",
              "\n",
              "    .dataframe tbody tr th {\n",
              "        vertical-align: top;\n",
              "    }\n",
              "\n",
              "    .dataframe thead th {\n",
              "        text-align: right;\n",
              "    }\n",
              "</style>\n",
              "<table border=\"1\" class=\"dataframe\">\n",
              "  <thead>\n",
              "    <tr style=\"text-align: right;\">\n",
              "      <th></th>\n",
              "      <th>Pregnancies</th>\n",
              "      <th>Glucose</th>\n",
              "      <th>BloodPressure</th>\n",
              "      <th>SkinThickness</th>\n",
              "      <th>Insulin</th>\n",
              "      <th>BMI</th>\n",
              "      <th>DiabetesPedigreeFunction</th>\n",
              "      <th>Age</th>\n",
              "      <th>Outcome</th>\n",
              "    </tr>\n",
              "  </thead>\n",
              "  <tbody>\n",
              "    <tr>\n",
              "      <th>0</th>\n",
              "      <td>6</td>\n",
              "      <td>148</td>\n",
              "      <td>72</td>\n",
              "      <td>35</td>\n",
              "      <td>0</td>\n",
              "      <td>33.6</td>\n",
              "      <td>0.627</td>\n",
              "      <td>50</td>\n",
              "      <td>1</td>\n",
              "    </tr>\n",
              "    <tr>\n",
              "      <th>1</th>\n",
              "      <td>1</td>\n",
              "      <td>85</td>\n",
              "      <td>66</td>\n",
              "      <td>29</td>\n",
              "      <td>0</td>\n",
              "      <td>26.6</td>\n",
              "      <td>0.351</td>\n",
              "      <td>31</td>\n",
              "      <td>0</td>\n",
              "    </tr>\n",
              "    <tr>\n",
              "      <th>2</th>\n",
              "      <td>8</td>\n",
              "      <td>183</td>\n",
              "      <td>64</td>\n",
              "      <td>0</td>\n",
              "      <td>0</td>\n",
              "      <td>23.3</td>\n",
              "      <td>0.672</td>\n",
              "      <td>32</td>\n",
              "      <td>1</td>\n",
              "    </tr>\n",
              "    <tr>\n",
              "      <th>3</th>\n",
              "      <td>1</td>\n",
              "      <td>89</td>\n",
              "      <td>66</td>\n",
              "      <td>23</td>\n",
              "      <td>94</td>\n",
              "      <td>28.1</td>\n",
              "      <td>0.167</td>\n",
              "      <td>21</td>\n",
              "      <td>0</td>\n",
              "    </tr>\n",
              "    <tr>\n",
              "      <th>4</th>\n",
              "      <td>0</td>\n",
              "      <td>137</td>\n",
              "      <td>40</td>\n",
              "      <td>35</td>\n",
              "      <td>168</td>\n",
              "      <td>43.1</td>\n",
              "      <td>2.288</td>\n",
              "      <td>33</td>\n",
              "      <td>1</td>\n",
              "    </tr>\n",
              "    <tr>\n",
              "      <th>...</th>\n",
              "      <td>...</td>\n",
              "      <td>...</td>\n",
              "      <td>...</td>\n",
              "      <td>...</td>\n",
              "      <td>...</td>\n",
              "      <td>...</td>\n",
              "      <td>...</td>\n",
              "      <td>...</td>\n",
              "      <td>...</td>\n",
              "    </tr>\n",
              "    <tr>\n",
              "      <th>763</th>\n",
              "      <td>10</td>\n",
              "      <td>101</td>\n",
              "      <td>76</td>\n",
              "      <td>48</td>\n",
              "      <td>180</td>\n",
              "      <td>32.9</td>\n",
              "      <td>0.171</td>\n",
              "      <td>63</td>\n",
              "      <td>0</td>\n",
              "    </tr>\n",
              "    <tr>\n",
              "      <th>764</th>\n",
              "      <td>2</td>\n",
              "      <td>122</td>\n",
              "      <td>70</td>\n",
              "      <td>27</td>\n",
              "      <td>0</td>\n",
              "      <td>36.8</td>\n",
              "      <td>0.340</td>\n",
              "      <td>27</td>\n",
              "      <td>0</td>\n",
              "    </tr>\n",
              "    <tr>\n",
              "      <th>765</th>\n",
              "      <td>5</td>\n",
              "      <td>121</td>\n",
              "      <td>72</td>\n",
              "      <td>23</td>\n",
              "      <td>112</td>\n",
              "      <td>26.2</td>\n",
              "      <td>0.245</td>\n",
              "      <td>30</td>\n",
              "      <td>0</td>\n",
              "    </tr>\n",
              "    <tr>\n",
              "      <th>766</th>\n",
              "      <td>1</td>\n",
              "      <td>126</td>\n",
              "      <td>60</td>\n",
              "      <td>0</td>\n",
              "      <td>0</td>\n",
              "      <td>30.1</td>\n",
              "      <td>0.349</td>\n",
              "      <td>47</td>\n",
              "      <td>1</td>\n",
              "    </tr>\n",
              "    <tr>\n",
              "      <th>767</th>\n",
              "      <td>1</td>\n",
              "      <td>93</td>\n",
              "      <td>70</td>\n",
              "      <td>31</td>\n",
              "      <td>0</td>\n",
              "      <td>30.4</td>\n",
              "      <td>0.315</td>\n",
              "      <td>23</td>\n",
              "      <td>0</td>\n",
              "    </tr>\n",
              "  </tbody>\n",
              "</table>\n",
              "<p>768 rows × 9 columns</p>\n",
              "</div>"
            ],
            "text/plain": [
              "     Pregnancies  Glucose  ...  Age  Outcome\n",
              "0              6      148  ...   50        1\n",
              "1              1       85  ...   31        0\n",
              "2              8      183  ...   32        1\n",
              "3              1       89  ...   21        0\n",
              "4              0      137  ...   33        1\n",
              "..           ...      ...  ...  ...      ...\n",
              "763           10      101  ...   63        0\n",
              "764            2      122  ...   27        0\n",
              "765            5      121  ...   30        0\n",
              "766            1      126  ...   47        1\n",
              "767            1       93  ...   23        0\n",
              "\n",
              "[768 rows x 9 columns]"
            ]
          },
          "metadata": {
            "tags": []
          },
          "execution_count": 2
        }
      ]
    },
    {
      "cell_type": "markdown",
      "metadata": {
        "id": "H5uCqGmzySSR"
      },
      "source": [
        "### Data Preprocessing"
      ]
    },
    {
      "cell_type": "code",
      "metadata": {
        "colab": {
          "base_uri": "https://localhost:8080/"
        },
        "id": "PlrnAa9jLVbp",
        "outputId": "ff65d7ce-bc7a-48ac-8d48-7fa38cb441b3"
      },
      "source": [
        "df.isnull().any()  # checking for null values"
      ],
      "execution_count": 3,
      "outputs": [
        {
          "output_type": "execute_result",
          "data": {
            "text/plain": [
              "Pregnancies                 False\n",
              "Glucose                     False\n",
              "BloodPressure               False\n",
              "SkinThickness               False\n",
              "Insulin                     False\n",
              "BMI                         False\n",
              "DiabetesPedigreeFunction    False\n",
              "Age                         False\n",
              "Outcome                     False\n",
              "dtype: bool"
            ]
          },
          "metadata": {
            "tags": []
          },
          "execution_count": 3
        }
      ]
    },
    {
      "cell_type": "code",
      "metadata": {
        "colab": {
          "base_uri": "https://localhost:8080/",
          "height": 296
        },
        "id": "I65oIFwFxwPe",
        "outputId": "ce44acfa-ab06-4bb4-8fd1-b343e5892c4e"
      },
      "source": [
        "# checking the distribution of outcomes\n",
        "sns.countplot(x=\"Outcome\",data=df)"
      ],
      "execution_count": 4,
      "outputs": [
        {
          "output_type": "execute_result",
          "data": {
            "text/plain": [
              "<matplotlib.axes._subplots.AxesSubplot at 0x7fb486267a90>"
            ]
          },
          "metadata": {
            "tags": []
          },
          "execution_count": 4
        },
        {
          "output_type": "display_data",
          "data": {
            "image/png": "[encoded data removed]",
            "text/plain": [
              "<Figure size 432x288 with 1 Axes>"
            ]
          },
          "metadata": {
            "tags": [],
            "needs_background": "light"
          }
        }
      ]
    },
    {
      "cell_type": "code",
      "metadata": {
        "id": "Xxpjwug25rTK",
        "colab": {
          "base_uri": "https://localhost:8080/"
        },
        "outputId": "519e7d53-f45b-4820-9dfe-c49cd827bdfa"
      },
      "source": [
        "# checking variance\n",
        "from statsmodels.stats.outliers_influence import variance_inflation_factor\n",
        "variables = df[['Pregnancies', 'Glucose', 'BloodPressure', 'SkinThickness', 'Insulin', 'BMI', 'DiabetesPedigreeFunction', 'Age']]\n",
        "vif = pd.DataFrame()\n",
        "vif['VIF'] = [variance_inflation_factor(variables.values, i) for i in range(variables.shape[1])]\n",
        "vif['Features'] = variables.columns"
      ],
      "execution_count": 5,
      "outputs": [
        {
          "output_type": "stream",
          "text": [
            "/usr/local/lib/python3.7/dist-packages/statsmodels/tools/_testing.py:19: FutureWarning: pandas.util.testing is deprecated. Use the functions in the public API at pandas.testing instead.\n",
            "  import pandas.util.testing as tm\n"
          ],
          "name": "stderr"
        }
      ]
    },
    {
      "cell_type": "code",
      "metadata": {
        "colab": {
          "base_uri": "https://localhost:8080/",
          "height": 284
        },
        "id": "PRZOnFBEBx2L",
        "outputId": "abcb51c5-4141-41b9-a0b0-ad9396cb0685"
      },
      "source": [
        "vif"
      ],
      "execution_count": 6,
      "outputs": [
        {
          "output_type": "execute_result",
          "data": {
            "text/html": [
              "<div>\n",
              "<style scoped>\n",
              "    .dataframe tbody tr th:only-of-type {\n",
              "        vertical-align: middle;\n",
              "    }\n",
              "\n",
              "    .dataframe tbody tr th {\n",
              "        vertical-align: top;\n",
              "    }\n",
              "\n",
              "    .dataframe thead th {\n",
              "        text-align: right;\n",
              "    }\n",
              "</style>\n",
              "<table border=\"1\" class=\"dataframe\">\n",
              "  <thead>\n",
              "    <tr style=\"text-align: right;\">\n",
              "      <th></th>\n",
              "      <th>VIF</th>\n",
              "      <th>Features</th>\n",
              "    </tr>\n",
              "  </thead>\n",
              "  <tbody>\n",
              "    <tr>\n",
              "      <th>0</th>\n",
              "      <td>3.275748</td>\n",
              "      <td>Pregnancies</td>\n",
              "    </tr>\n",
              "    <tr>\n",
              "      <th>1</th>\n",
              "      <td>16.725078</td>\n",
              "      <td>Glucose</td>\n",
              "    </tr>\n",
              "    <tr>\n",
              "      <th>2</th>\n",
              "      <td>14.619512</td>\n",
              "      <td>BloodPressure</td>\n",
              "    </tr>\n",
              "    <tr>\n",
              "      <th>3</th>\n",
              "      <td>4.008696</td>\n",
              "      <td>SkinThickness</td>\n",
              "    </tr>\n",
              "    <tr>\n",
              "      <th>4</th>\n",
              "      <td>2.063689</td>\n",
              "      <td>Insulin</td>\n",
              "    </tr>\n",
              "    <tr>\n",
              "      <th>5</th>\n",
              "      <td>18.408884</td>\n",
              "      <td>BMI</td>\n",
              "    </tr>\n",
              "    <tr>\n",
              "      <th>6</th>\n",
              "      <td>3.195626</td>\n",
              "      <td>DiabetesPedigreeFunction</td>\n",
              "    </tr>\n",
              "    <tr>\n",
              "      <th>7</th>\n",
              "      <td>13.492985</td>\n",
              "      <td>Age</td>\n",
              "    </tr>\n",
              "  </tbody>\n",
              "</table>\n",
              "</div>"
            ],
            "text/plain": [
              "         VIF                  Features\n",
              "0   3.275748               Pregnancies\n",
              "1  16.725078                   Glucose\n",
              "2  14.619512             BloodPressure\n",
              "3   4.008696             SkinThickness\n",
              "4   2.063689                   Insulin\n",
              "5  18.408884                       BMI\n",
              "6   3.195626  DiabetesPedigreeFunction\n",
              "7  13.492985                       Age"
            ]
          },
          "metadata": {
            "tags": []
          },
          "execution_count": 6
        }
      ]
    },
    {
      "cell_type": "code",
      "metadata": {
        "id": "qOppIrfhEZ6o"
      },
      "source": [
        "# dropping all columns which have vif more than 10\n",
        "df = df.drop(['Glucose', 'BloodPressure', 'BMI', 'Age'], axis = 1)"
      ],
      "execution_count": 7,
      "outputs": []
    },
    {
      "cell_type": "code",
      "metadata": {
        "colab": {
          "base_uri": "https://localhost:8080/",
          "height": 402
        },
        "id": "4RVZXmloN9E0",
        "outputId": "15cf42e3-a131-436f-9a0d-f6282336730c"
      },
      "source": [
        "df  # required attributes only"
      ],
      "execution_count": 8,
      "outputs": [
        {
          "output_type": "execute_result",
          "data": {
            "text/html": [
              "<div>\n",
              "<style scoped>\n",
              "    .dataframe tbody tr th:only-of-type {\n",
              "        vertical-align: middle;\n",
              "    }\n",
              "\n",
              "    .dataframe tbody tr th {\n",
              "        vertical-align: top;\n",
              "    }\n",
              "\n",
              "    .dataframe thead th {\n",
              "        text-align: right;\n",
              "    }\n",
              "</style>\n",
              "<table border=\"1\" class=\"dataframe\">\n",
              "  <thead>\n",
              "    <tr style=\"text-align: right;\">\n",
              "      <th></th>\n",
              "      <th>Pregnancies</th>\n",
              "      <th>SkinThickness</th>\n",
              "      <th>Insulin</th>\n",
              "      <th>DiabetesPedigreeFunction</th>\n",
              "      <th>Outcome</th>\n",
              "    </tr>\n",
              "  </thead>\n",
              "  <tbody>\n",
              "    <tr>\n",
              "      <th>0</th>\n",
              "      <td>6</td>\n",
              "      <td>35</td>\n",
              "      <td>0</td>\n",
              "      <td>0.627</td>\n",
              "      <td>1</td>\n",
              "    </tr>\n",
              "    <tr>\n",
              "      <th>1</th>\n",
              "      <td>1</td>\n",
              "      <td>29</td>\n",
              "      <td>0</td>\n",
              "      <td>0.351</td>\n",
              "      <td>0</td>\n",
              "    </tr>\n",
              "    <tr>\n",
              "      <th>2</th>\n",
              "      <td>8</td>\n",
              "      <td>0</td>\n",
              "      <td>0</td>\n",
              "      <td>0.672</td>\n",
              "      <td>1</td>\n",
              "    </tr>\n",
              "    <tr>\n",
              "      <th>3</th>\n",
              "      <td>1</td>\n",
              "      <td>23</td>\n",
              "      <td>94</td>\n",
              "      <td>0.167</td>\n",
              "      <td>0</td>\n",
              "    </tr>\n",
              "    <tr>\n",
              "      <th>4</th>\n",
              "      <td>0</td>\n",
              "      <td>35</td>\n",
              "      <td>168</td>\n",
              "      <td>2.288</td>\n",
              "      <td>1</td>\n",
              "    </tr>\n",
              "    <tr>\n",
              "      <th>...</th>\n",
              "      <td>...</td>\n",
              "      <td>...</td>\n",
              "      <td>...</td>\n",
              "      <td>...</td>\n",
              "      <td>...</td>\n",
              "    </tr>\n",
              "    <tr>\n",
              "      <th>763</th>\n",
              "      <td>10</td>\n",
              "      <td>48</td>\n",
              "      <td>180</td>\n",
              "      <td>0.171</td>\n",
              "      <td>0</td>\n",
              "    </tr>\n",
              "    <tr>\n",
              "      <th>764</th>\n",
              "      <td>2</td>\n",
              "      <td>27</td>\n",
              "      <td>0</td>\n",
              "      <td>0.340</td>\n",
              "      <td>0</td>\n",
              "    </tr>\n",
              "    <tr>\n",
              "      <th>765</th>\n",
              "      <td>5</td>\n",
              "      <td>23</td>\n",
              "      <td>112</td>\n",
              "      <td>0.245</td>\n",
              "      <td>0</td>\n",
              "    </tr>\n",
              "    <tr>\n",
              "      <th>766</th>\n",
              "      <td>1</td>\n",
              "      <td>0</td>\n",
              "      <td>0</td>\n",
              "      <td>0.349</td>\n",
              "      <td>1</td>\n",
              "    </tr>\n",
              "    <tr>\n",
              "      <th>767</th>\n",
              "      <td>1</td>\n",
              "      <td>31</td>\n",
              "      <td>0</td>\n",
              "      <td>0.315</td>\n",
              "      <td>0</td>\n",
              "    </tr>\n",
              "  </tbody>\n",
              "</table>\n",
              "<p>768 rows × 5 columns</p>\n",
              "</div>"
            ],
            "text/plain": [
              "     Pregnancies  SkinThickness  Insulin  DiabetesPedigreeFunction  Outcome\n",
              "0              6             35        0                     0.627        1\n",
              "1              1             29        0                     0.351        0\n",
              "2              8              0        0                     0.672        1\n",
              "3              1             23       94                     0.167        0\n",
              "4              0             35      168                     2.288        1\n",
              "..           ...            ...      ...                       ...      ...\n",
              "763           10             48      180                     0.171        0\n",
              "764            2             27        0                     0.340        0\n",
              "765            5             23      112                     0.245        0\n",
              "766            1              0        0                     0.349        1\n",
              "767            1             31        0                     0.315        0\n",
              "\n",
              "[768 rows x 5 columns]"
            ]
          },
          "metadata": {
            "tags": []
          },
          "execution_count": 8
        }
      ]
    },
    {
      "cell_type": "code",
      "metadata": {
        "colab": {
          "base_uri": "https://localhost:8080/",
          "height": 296
        },
        "id": "5tIw3vjDN-QP",
        "outputId": "07d962cb-8ae2-4594-ba93-ed9f8ec95fd2"
      },
      "source": [
        "# checking for outliners and removing them\n",
        "import seaborn as sns\n",
        "sns.boxplot(x=df['Pregnancies'])"
      ],
      "execution_count": 9,
      "outputs": [
        {
          "output_type": "execute_result",
          "data": {
            "text/plain": [
              "<matplotlib.axes._subplots.AxesSubplot at 0x7fb485372dd0>"
            ]
          },
          "metadata": {
            "tags": []
          },
          "execution_count": 9
        },
        {
          "output_type": "display_data",
          "data": {
            "image/png": "[encoded data removed]",
            "text/plain": [
              "<Figure size 432x288 with 1 Axes>"
            ]
          },
          "metadata": {
            "tags": [],
            "needs_background": "light"
          }
        }
      ]
    },
    {
      "cell_type": "code",
      "metadata": {
        "id": "ooGHY4paPAwC"
      },
      "source": [
        "outliers_removed = [x for x in df['Pregnancies'] if x >= 12.5 and x <= 17.5]\n",
        "for i in df['Pregnancies']:\n",
        "  if i in set(outliers_removed):\n",
        "    df['Pregnancies'] = df['Pregnancies'].replace(i,df['Pregnancies'].mean())"
      ],
      "execution_count": 10,
      "outputs": []
    },
    {
      "cell_type": "code",
      "metadata": {
        "colab": {
          "base_uri": "https://localhost:8080/",
          "height": 296
        },
        "id": "O4cPvgdiSDsw",
        "outputId": "7c0a8033-aa4a-4f32-c05b-67653257b827"
      },
      "source": [
        "sns.boxplot(x=df['SkinThickness'])"
      ],
      "execution_count": 11,
      "outputs": [
        {
          "output_type": "execute_result",
          "data": {
            "text/plain": [
              "<matplotlib.axes._subplots.AxesSubplot at 0x7fb47d2ebf50>"
            ]
          },
          "metadata": {
            "tags": []
          },
          "execution_count": 11
        },
        {
          "output_type": "display_data",
          "data": {
            "image/png": "[encoded data removed]",
            "text/plain": [
              "<Figure size 432x288 with 1 Axes>"
            ]
          },
          "metadata": {
            "tags": [],
            "needs_background": "light"
          }
        }
      ]
    },
    {
      "cell_type": "code",
      "metadata": {
        "id": "3Y9FYvlmSNV6"
      },
      "source": [
        "outliers_removed = [x for x in df['SkinThickness'] if x >= 80 and x <= 120]\n",
        "for i in df['SkinThickness']:\n",
        "  if i in set(outliers_removed):\n",
        "    df['SkinThickness'] = df['SkinThickness'].replace(i,df['SkinThickness'].mean())"
      ],
      "execution_count": 12,
      "outputs": []
    },
    {
      "cell_type": "code",
      "metadata": {
        "colab": {
          "base_uri": "https://localhost:8080/",
          "height": 296
        },
        "id": "HMHoXK6JSyHY",
        "outputId": "c1de753e-eb5b-4d48-c85e-82d30a6211b5"
      },
      "source": [
        "sns.boxplot(x=df['Insulin'])"
      ],
      "execution_count": 13,
      "outputs": [
        {
          "output_type": "execute_result",
          "data": {
            "text/plain": [
              "<matplotlib.axes._subplots.AxesSubplot at 0x7fb47d268c50>"
            ]
          },
          "metadata": {
            "tags": []
          },
          "execution_count": 13
        },
        {
          "output_type": "display_data",
          "data": {
            "image/png": "[encoded data removed]",
            "text/plain": [
              "<Figure size 432x288 with 1 Axes>"
            ]
          },
          "metadata": {
            "tags": [],
            "needs_background": "light"
          }
        }
      ]
    },
    {
      "cell_type": "code",
      "metadata": {
        "id": "Pae74eNYTBKf"
      },
      "source": [
        "outliers_removed = [x for x in df['Insulin'] if x >= 250 and x <= 900]\n",
        "for i in df['Insulin']:\n",
        "  if i in set(outliers_removed):\n",
        "    df['Insulin'] = df['Insulin'].replace(i,df['Insulin'].mean())"
      ],
      "execution_count": 14,
      "outputs": []
    },
    {
      "cell_type": "code",
      "metadata": {
        "colab": {
          "base_uri": "https://localhost:8080/",
          "height": 296
        },
        "id": "vV33dKdkTX82",
        "outputId": "ceac7045-b673-4af5-f286-2c53210a258a"
      },
      "source": [
        "sns.boxplot(x=df['DiabetesPedigreeFunction'])"
      ],
      "execution_count": 15,
      "outputs": [
        {
          "output_type": "execute_result",
          "data": {
            "text/plain": [
              "<matplotlib.axes._subplots.AxesSubplot at 0x7fb47d1cb890>"
            ]
          },
          "metadata": {
            "tags": []
          },
          "execution_count": 15
        },
        {
          "output_type": "display_data",
          "data": {
            "image/png": "[encoded data removed]",
            "text/plain": [
              "<Figure size 432x288 with 1 Axes>"
            ]
          },
          "metadata": {
            "tags": [],
            "needs_background": "light"
          }
        }
      ]
    },
    {
      "cell_type": "code",
      "metadata": {
        "id": "EqFVkKniTon-"
      },
      "source": [
        "outliers_removed = [x for x in df['DiabetesPedigreeFunction'] if x >= 1 and x <= 2.5]\n",
        "for i in df['DiabetesPedigreeFunction']:\n",
        "  if i in set(outliers_removed):\n",
        "    df['DiabetesPedigreeFunction'] = df['DiabetesPedigreeFunction'].replace(i,df['DiabetesPedigreeFunction'].mean())"
      ],
      "execution_count": 16,
      "outputs": []
    },
    {
      "cell_type": "code",
      "metadata": {
        "colab": {
          "base_uri": "https://localhost:8080/",
          "height": 402
        },
        "id": "gV0XNvGfVHZD",
        "outputId": "67a9c5da-65b9-486b-825a-c56c1a18a980"
      },
      "source": [
        "df  # our final dataframe is ready"
      ],
      "execution_count": 17,
      "outputs": [
        {
          "output_type": "execute_result",
          "data": {
            "text/html": [
              "<div>\n",
              "<style scoped>\n",
              "    .dataframe tbody tr th:only-of-type {\n",
              "        vertical-align: middle;\n",
              "    }\n",
              "\n",
              "    .dataframe tbody tr th {\n",
              "        vertical-align: top;\n",
              "    }\n",
              "\n",
              "    .dataframe thead th {\n",
              "        text-align: right;\n",
              "    }\n",
              "</style>\n",
              "<table border=\"1\" class=\"dataframe\">\n",
              "  <thead>\n",
              "    <tr style=\"text-align: right;\">\n",
              "      <th></th>\n",
              "      <th>Pregnancies</th>\n",
              "      <th>SkinThickness</th>\n",
              "      <th>Insulin</th>\n",
              "      <th>DiabetesPedigreeFunction</th>\n",
              "      <th>Outcome</th>\n",
              "    </tr>\n",
              "  </thead>\n",
              "  <tbody>\n",
              "    <tr>\n",
              "      <th>0</th>\n",
              "      <td>6.0</td>\n",
              "      <td>35.0</td>\n",
              "      <td>0.0</td>\n",
              "      <td>0.627000</td>\n",
              "      <td>1</td>\n",
              "    </tr>\n",
              "    <tr>\n",
              "      <th>1</th>\n",
              "      <td>1.0</td>\n",
              "      <td>29.0</td>\n",
              "      <td>0.0</td>\n",
              "      <td>0.351000</td>\n",
              "      <td>0</td>\n",
              "    </tr>\n",
              "    <tr>\n",
              "      <th>2</th>\n",
              "      <td>8.0</td>\n",
              "      <td>0.0</td>\n",
              "      <td>0.0</td>\n",
              "      <td>0.672000</td>\n",
              "      <td>1</td>\n",
              "    </tr>\n",
              "    <tr>\n",
              "      <th>3</th>\n",
              "      <td>1.0</td>\n",
              "      <td>23.0</td>\n",
              "      <td>94.0</td>\n",
              "      <td>0.167000</td>\n",
              "      <td>0</td>\n",
              "    </tr>\n",
              "    <tr>\n",
              "      <th>4</th>\n",
              "      <td>0.0</td>\n",
              "      <td>35.0</td>\n",
              "      <td>168.0</td>\n",
              "      <td>0.471876</td>\n",
              "      <td>1</td>\n",
              "    </tr>\n",
              "    <tr>\n",
              "      <th>...</th>\n",
              "      <td>...</td>\n",
              "      <td>...</td>\n",
              "      <td>...</td>\n",
              "      <td>...</td>\n",
              "      <td>...</td>\n",
              "    </tr>\n",
              "    <tr>\n",
              "      <th>763</th>\n",
              "      <td>10.0</td>\n",
              "      <td>48.0</td>\n",
              "      <td>180.0</td>\n",
              "      <td>0.171000</td>\n",
              "      <td>0</td>\n",
              "    </tr>\n",
              "    <tr>\n",
              "      <th>764</th>\n",
              "      <td>2.0</td>\n",
              "      <td>27.0</td>\n",
              "      <td>0.0</td>\n",
              "      <td>0.340000</td>\n",
              "      <td>0</td>\n",
              "    </tr>\n",
              "    <tr>\n",
              "      <th>765</th>\n",
              "      <td>5.0</td>\n",
              "      <td>23.0</td>\n",
              "      <td>112.0</td>\n",
              "      <td>0.245000</td>\n",
              "      <td>0</td>\n",
              "    </tr>\n",
              "    <tr>\n",
              "      <th>766</th>\n",
              "      <td>1.0</td>\n",
              "      <td>0.0</td>\n",
              "      <td>0.0</td>\n",
              "      <td>0.349000</td>\n",
              "      <td>1</td>\n",
              "    </tr>\n",
              "    <tr>\n",
              "      <th>767</th>\n",
              "      <td>1.0</td>\n",
              "      <td>31.0</td>\n",
              "      <td>0.0</td>\n",
              "      <td>0.315000</td>\n",
              "      <td>0</td>\n",
              "    </tr>\n",
              "  </tbody>\n",
              "</table>\n",
              "<p>768 rows × 5 columns</p>\n",
              "</div>"
            ],
            "text/plain": [
              "     Pregnancies  SkinThickness  Insulin  DiabetesPedigreeFunction  Outcome\n",
              "0            6.0           35.0      0.0                  0.627000        1\n",
              "1            1.0           29.0      0.0                  0.351000        0\n",
              "2            8.0            0.0      0.0                  0.672000        1\n",
              "3            1.0           23.0     94.0                  0.167000        0\n",
              "4            0.0           35.0    168.0                  0.471876        1\n",
              "..           ...            ...      ...                       ...      ...\n",
              "763         10.0           48.0    180.0                  0.171000        0\n",
              "764          2.0           27.0      0.0                  0.340000        0\n",
              "765          5.0           23.0    112.0                  0.245000        0\n",
              "766          1.0            0.0      0.0                  0.349000        1\n",
              "767          1.0           31.0      0.0                  0.315000        0\n",
              "\n",
              "[768 rows x 5 columns]"
            ]
          },
          "metadata": {
            "tags": []
          },
          "execution_count": 17
        }
      ]
    },
    {
      "cell_type": "code",
      "metadata": {
        "colab": {
          "base_uri": "https://localhost:8080/"
        },
        "id": "UzZl9UxZq6aI",
        "outputId": "06702e38-634b-4b9b-a2d2-c08dd5d1995f"
      },
      "source": [
        "# checking skewness of data\n",
        "# if it would have not been in [-1,1], I would have applied log transformation\n",
        "df.skew(axis = 0, skipna = True)"
      ],
      "execution_count": 18,
      "outputs": [
        {
          "output_type": "execute_result",
          "data": {
            "text/plain": [
              "Pregnancies                 0.745142\n",
              "SkinThickness              -0.028882\n",
              "Insulin                     0.931583\n",
              "DiabetesPedigreeFunction    0.708226\n",
              "Outcome                     0.635017\n",
              "dtype: float64"
            ]
          },
          "metadata": {
            "tags": []
          },
          "execution_count": 18
        }
      ]
    },
    {
      "cell_type": "code",
      "metadata": {
        "colab": {
          "base_uri": "https://localhost:8080/",
          "height": 407
        },
        "id": "uLyDU2zr0JID",
        "outputId": "2b928b70-a9f9-4d1b-807c-103264f4de6b"
      },
      "source": [
        "# checking for coorelations\n",
        "# if it would have been >1, I would have dropped those columns\n",
        "corr = df.corr()\n",
        "sns.heatmap(corr, annot=True)  # quantifying the relationship"
      ],
      "execution_count": 19,
      "outputs": [
        {
          "output_type": "execute_result",
          "data": {
            "text/plain": [
              "<matplotlib.axes._subplots.AxesSubplot at 0x7fb47d1af490>"
            ]
          },
          "metadata": {
            "tags": []
          },
          "execution_count": 19
        },
        {
          "output_type": "display_data",
          "data": {
            "image/png": "[encoded data removed]",
            "text/plain": [
              "<Figure size 432x288 with 2 Axes>"
            ]
          },
          "metadata": {
            "tags": [],
            "needs_background": "light"
          }
        }
      ]
    },
    {
      "cell_type": "markdown",
      "metadata": {
        "id": "XftL2UKoz-Aa"
      },
      "source": [
        "### Training and Testing"
      ]
    },
    {
      "cell_type": "code",
      "metadata": {
        "id": "xwXfgrOHLa7J"
      },
      "source": [
        "data = df.values\n",
        "X, y = data[:,:-1], data[:,-1]"
      ],
      "execution_count": 20,
      "outputs": []
    },
    {
      "cell_type": "code",
      "metadata": {
        "id": "dvdWsFEELka6"
      },
      "source": [
        "# standardization\n",
        "scaled_features = StandardScaler().fit_transform(X)"
      ],
      "execution_count": 21,
      "outputs": []
    },
    {
      "cell_type": "code",
      "metadata": {
        "id": "BMdzfOzDLptM"
      },
      "source": [
        "X_train, X_test, y_train, y_test = train_test_split( scaled_features, y, test_size=0.3, random_state=0)  # splitting in the ratio 70:30"
      ],
      "execution_count": 22,
      "outputs": []
    },
    {
      "cell_type": "markdown",
      "metadata": {
        "id": "CvYQz4PU1h29"
      },
      "source": [
        "### Training the Model"
      ]
    },
    {
      "cell_type": "code",
      "metadata": {
        "colab": {
          "base_uri": "https://localhost:8080/"
        },
        "id": "mrlyKL35L4cY",
        "outputId": "bceda69d-53e4-4fd9-a143-ba009dd39820"
      },
      "source": [
        "model = LogisticRegression(C=0.0001, solver='liblinear').fit(X_train,y_train)\n",
        "model"
      ],
      "execution_count": 23,
      "outputs": [
        {
          "output_type": "execute_result",
          "data": {
            "text/plain": [
              "LogisticRegression(C=0.0001, class_weight=None, dual=False, fit_intercept=True,\n",
              "                   intercept_scaling=1, l1_ratio=None, max_iter=100,\n",
              "                   multi_class='auto', n_jobs=None, penalty='l2',\n",
              "                   random_state=None, solver='liblinear', tol=0.0001, verbose=0,\n",
              "                   warm_start=False)"
            ]
          },
          "metadata": {
            "tags": []
          },
          "execution_count": 23
        }
      ]
    },
    {
      "cell_type": "markdown",
      "metadata": {
        "id": "EJoBQXj51ndr"
      },
      "source": [
        "### Making Predictions"
      ]
    },
    {
      "cell_type": "code",
      "metadata": {
        "id": "-hpIkcsDMKEn"
      },
      "source": [
        "y_pred = model.predict(X_test)"
      ],
      "execution_count": 24,
      "outputs": []
    },
    {
      "cell_type": "code",
      "metadata": {
        "colab": {
          "base_uri": "https://localhost:8080/"
        },
        "id": "0m9tkwQdOxqs",
        "outputId": "97310b11-ed2e-4fd9-d795-08504b8aeb57"
      },
      "source": [
        "y_pred_prob = model.predict_proba(X_test)\n",
        "y_pred_prob"
      ],
      "execution_count": 25,
      "outputs": [
        {
          "output_type": "execute_result",
          "data": {
            "text/plain": [
              "array([[0.50222331, 0.49777669],\n",
              "       [0.50190609, 0.49809391],\n",
              "       [0.50273258, 0.49726742],\n",
              "       [0.50018654, 0.49981346],\n",
              "       [0.50296699, 0.49703301],\n",
              "       [0.50339308, 0.49660692],\n",
              "       [0.49715308, 0.50284692],\n",
              "       [0.50132715, 0.49867285],\n",
              "       [0.50211594, 0.49788406],\n",
              "       [0.50042845, 0.49957155],\n",
              "       [0.49890453, 0.50109547],\n",
              "       [0.5004282 , 0.4995718 ],\n",
              "       [0.50097198, 0.49902802],\n",
              "       [0.50201281, 0.49798719],\n",
              "       [0.499813  , 0.500187  ],\n",
              "       [0.50180112, 0.49819888],\n",
              "       [0.49811608, 0.50188392],\n",
              "       [0.50397881, 0.49602119],\n",
              "       [0.50160931, 0.49839069],\n",
              "       [0.50067154, 0.49932846],\n",
              "       [0.50102998, 0.49897002],\n",
              "       [0.50217142, 0.49782858],\n",
              "       [0.50109816, 0.49890184],\n",
              "       [0.50275079, 0.49724921],\n",
              "       [0.50220618, 0.49779382],\n",
              "       [0.50218487, 0.49781513],\n",
              "       [0.50328288, 0.49671712],\n",
              "       [0.50084046, 0.49915954],\n",
              "       [0.50301801, 0.49698199],\n",
              "       [0.50280256, 0.49719744],\n",
              "       [0.49923695, 0.50076305],\n",
              "       [0.50177506, 0.49822494],\n",
              "       [0.50179006, 0.49820994],\n",
              "       [0.49954808, 0.50045192],\n",
              "       [0.503826  , 0.496174  ],\n",
              "       [0.50343839, 0.49656161],\n",
              "       [0.49921017, 0.50078983],\n",
              "       [0.50276593, 0.49723407],\n",
              "       [0.50235508, 0.49764492],\n",
              "       [0.5024142 , 0.4975858 ],\n",
              "       [0.50169558, 0.49830442],\n",
              "       [0.50238315, 0.49761685],\n",
              "       [0.50077483, 0.49922517],\n",
              "       [0.50266116, 0.49733884],\n",
              "       [0.50250634, 0.49749366],\n",
              "       [0.50257412, 0.49742588],\n",
              "       [0.50316044, 0.49683956],\n",
              "       [0.50228818, 0.49771182],\n",
              "       [0.49876361, 0.50123639],\n",
              "       [0.50214534, 0.49785466],\n",
              "       [0.5013381 , 0.4986619 ],\n",
              "       [0.50255433, 0.49744567],\n",
              "       [0.4970255 , 0.5029745 ],\n",
              "       [0.50040404, 0.49959596],\n",
              "       [0.50209171, 0.49790829],\n",
              "       [0.50409043, 0.49590957],\n",
              "       [0.50294274, 0.49705726],\n",
              "       [0.5031387 , 0.4968613 ],\n",
              "       [0.50278296, 0.49721704],\n",
              "       [0.5012733 , 0.4987267 ],\n",
              "       [0.49976642, 0.50023358],\n",
              "       [0.50163262, 0.49836738],\n",
              "       [0.50480558, 0.49519442],\n",
              "       [0.50186136, 0.49813864],\n",
              "       [0.50324983, 0.49675017],\n",
              "       [0.50122082, 0.49877918],\n",
              "       [0.50143821, 0.49856179],\n",
              "       [0.50361836, 0.49638164],\n",
              "       [0.50112231, 0.49887769],\n",
              "       [0.50071289, 0.49928711],\n",
              "       [0.50433809, 0.49566191],\n",
              "       [0.50247678, 0.49752322],\n",
              "       [0.50363359, 0.49636641],\n",
              "       [0.50195527, 0.49804473],\n",
              "       [0.50237619, 0.49762381],\n",
              "       [0.50329551, 0.49670449],\n",
              "       [0.50020217, 0.49979783],\n",
              "       [0.49832895, 0.50167105],\n",
              "       [0.50241332, 0.49758668],\n",
              "       [0.50312303, 0.49687697],\n",
              "       [0.50222277, 0.49777723],\n",
              "       [0.50112897, 0.49887103],\n",
              "       [0.50063336, 0.49936664],\n",
              "       [0.50310316, 0.49689684],\n",
              "       [0.50212347, 0.49787653],\n",
              "       [0.50335626, 0.49664374],\n",
              "       [0.50301899, 0.49698101],\n",
              "       [0.50294941, 0.49705059],\n",
              "       [0.49938556, 0.50061444],\n",
              "       [0.50282782, 0.49717218],\n",
              "       [0.50373122, 0.49626878],\n",
              "       [0.50382782, 0.49617218],\n",
              "       [0.50139634, 0.49860366],\n",
              "       [0.50258619, 0.49741381],\n",
              "       [0.50222   , 0.49778   ],\n",
              "       [0.50169399, 0.49830601],\n",
              "       [0.49833602, 0.50166398],\n",
              "       [0.50300052, 0.49699948],\n",
              "       [0.49993959, 0.50006041],\n",
              "       [0.50279333, 0.49720667],\n",
              "       [0.50351603, 0.49648397],\n",
              "       [0.50147861, 0.49852139],\n",
              "       [0.50354255, 0.49645745],\n",
              "       [0.50335859, 0.49664141],\n",
              "       [0.50178806, 0.49821194],\n",
              "       [0.49912452, 0.50087548],\n",
              "       [0.50212451, 0.49787549],\n",
              "       [0.50371353, 0.49628647],\n",
              "       [0.50284512, 0.49715488],\n",
              "       [0.50027068, 0.49972932],\n",
              "       [0.50095542, 0.49904458],\n",
              "       [0.49976352, 0.50023648],\n",
              "       [0.50246982, 0.49753018],\n",
              "       [0.50184662, 0.49815338],\n",
              "       [0.50223024, 0.49776976],\n",
              "       [0.50265498, 0.49734502],\n",
              "       [0.50076746, 0.49923254],\n",
              "       [0.50181644, 0.49818356],\n",
              "       [0.50411085, 0.49588915],\n",
              "       [0.4969271 , 0.5030729 ],\n",
              "       [0.50205726, 0.49794274],\n",
              "       [0.50154458, 0.49845542],\n",
              "       [0.50212724, 0.49787276],\n",
              "       [0.50006565, 0.49993435],\n",
              "       [0.50327585, 0.49672415],\n",
              "       [0.50420445, 0.49579555],\n",
              "       [0.50082527, 0.49917473],\n",
              "       [0.50036744, 0.49963256],\n",
              "       [0.50252668, 0.49747332],\n",
              "       [0.50365773, 0.49634227],\n",
              "       [0.50053857, 0.49946143],\n",
              "       [0.50208799, 0.49791201],\n",
              "       [0.50308685, 0.49691315],\n",
              "       [0.50056822, 0.49943178],\n",
              "       [0.49915772, 0.50084228],\n",
              "       [0.49876271, 0.50123729],\n",
              "       [0.50395696, 0.49604304],\n",
              "       [0.50088758, 0.49911242],\n",
              "       [0.50156506, 0.49843494],\n",
              "       [0.5031353 , 0.4968647 ],\n",
              "       [0.5035461 , 0.4964539 ],\n",
              "       [0.50142484, 0.49857516],\n",
              "       [0.50455159, 0.49544841],\n",
              "       [0.50173969, 0.49826031],\n",
              "       [0.50227834, 0.49772166],\n",
              "       [0.50275171, 0.49724829],\n",
              "       [0.50181051, 0.49818949],\n",
              "       [0.50140925, 0.49859075],\n",
              "       [0.50286079, 0.49713921],\n",
              "       [0.49975688, 0.50024312],\n",
              "       [0.50213549, 0.49786451],\n",
              "       [0.50170389, 0.49829611],\n",
              "       [0.50324368, 0.49675632],\n",
              "       [0.50063074, 0.49936926],\n",
              "       [0.49899823, 0.50100177],\n",
              "       [0.50177272, 0.49822728],\n",
              "       [0.50251025, 0.49748975],\n",
              "       [0.50063234, 0.49936766],\n",
              "       [0.50225112, 0.49774888],\n",
              "       [0.49965848, 0.50034152],\n",
              "       [0.49965559, 0.50034441],\n",
              "       [0.50313173, 0.49686827],\n",
              "       [0.50306604, 0.49693396],\n",
              "       [0.50100186, 0.49899814],\n",
              "       [0.50152035, 0.49847965],\n",
              "       [0.50506881, 0.49493119],\n",
              "       [0.50363838, 0.49636162],\n",
              "       [0.50358888, 0.49641112],\n",
              "       [0.50403549, 0.49596451],\n",
              "       [0.50484203, 0.49515797],\n",
              "       [0.5023115 , 0.4976885 ],\n",
              "       [0.49860929, 0.50139071],\n",
              "       [0.50229454, 0.49770546],\n",
              "       [0.50412232, 0.49587768],\n",
              "       [0.50334842, 0.49665158],\n",
              "       [0.50106393, 0.49893607],\n",
              "       [0.50102803, 0.49897197],\n",
              "       [0.50182516, 0.49817484],\n",
              "       [0.50272822, 0.49727178],\n",
              "       [0.50374954, 0.49625046],\n",
              "       [0.50292519, 0.49707481],\n",
              "       [0.50332654, 0.49667346],\n",
              "       [0.50121588, 0.49878412],\n",
              "       [0.50247796, 0.49752204],\n",
              "       [0.50264397, 0.49735603],\n",
              "       [0.50160783, 0.49839217],\n",
              "       [0.5045464 , 0.4954536 ],\n",
              "       [0.50216381, 0.49783619],\n",
              "       [0.501575  , 0.498425  ],\n",
              "       [0.50037866, 0.49962134],\n",
              "       [0.50356167, 0.49643833],\n",
              "       [0.50196296, 0.49803704],\n",
              "       [0.50208621, 0.49791379],\n",
              "       [0.50264824, 0.49735176],\n",
              "       [0.50320593, 0.49679407],\n",
              "       [0.49778108, 0.50221892],\n",
              "       [0.49798691, 0.50201309],\n",
              "       [0.50200274, 0.49799726],\n",
              "       [0.50532393, 0.49467607],\n",
              "       [0.50142088, 0.49857912],\n",
              "       [0.50349219, 0.49650781],\n",
              "       [0.50328503, 0.49671497],\n",
              "       [0.49844854, 0.50155146],\n",
              "       [0.50247273, 0.49752727],\n",
              "       [0.50196969, 0.49803031],\n",
              "       [0.50234227, 0.49765773],\n",
              "       [0.50141164, 0.49858836],\n",
              "       [0.50258059, 0.49741941],\n",
              "       [0.50223048, 0.49776952],\n",
              "       [0.5029045 , 0.4970955 ],\n",
              "       [0.50366013, 0.49633987],\n",
              "       [0.50261635, 0.49738365],\n",
              "       [0.49959027, 0.50040973],\n",
              "       [0.50458398, 0.49541602],\n",
              "       [0.50255466, 0.49744534],\n",
              "       [0.50074305, 0.49925695],\n",
              "       [0.5002955 , 0.4997045 ],\n",
              "       [0.50354308, 0.49645692],\n",
              "       [0.5046112 , 0.4953888 ],\n",
              "       [0.5024127 , 0.4975873 ],\n",
              "       [0.50366404, 0.49633596],\n",
              "       [0.50406553, 0.49593447],\n",
              "       [0.50186612, 0.49813388],\n",
              "       [0.50115782, 0.49884218],\n",
              "       [0.50236209, 0.49763791],\n",
              "       [0.49960517, 0.50039483],\n",
              "       [0.49942851, 0.50057149],\n",
              "       [0.49860711, 0.50139289],\n",
              "       [0.50340371, 0.49659629],\n",
              "       [0.50451109, 0.49548891],\n",
              "       [0.49924685, 0.50075315]])"
            ]
          },
          "metadata": {
            "tags": []
          },
          "execution_count": 25
        }
      ]
    },
    {
      "cell_type": "markdown",
      "metadata": {
        "id": "oKlAHNzT1uC1"
      },
      "source": [
        "### Checking Accuracy"
      ]
    },
    {
      "cell_type": "code",
      "metadata": {
        "colab": {
          "base_uri": "https://localhost:8080/"
        },
        "id": "sQAZF11qMgdS",
        "outputId": "ddc355a9-e88f-4338-97fa-bb74589f76f4"
      },
      "source": [
        "jaccard_similarity_score(y_test, y_pred)"
      ],
      "execution_count": 26,
      "outputs": [
        {
          "output_type": "stream",
          "text": [
            "/usr/local/lib/python3.7/dist-packages/sklearn/metrics/_classification.py:664: FutureWarning: jaccard_similarity_score has been deprecated and replaced with jaccard_score. It will be removed in version 0.23. This implementation has surprising behavior for binary and multiclass classification tasks.\n",
            "  FutureWarning)\n"
          ],
          "name": "stderr"
        },
        {
          "output_type": "execute_result",
          "data": {
            "text/plain": [
              "0.7316017316017316"
            ]
          },
          "metadata": {
            "tags": []
          },
          "execution_count": 26
        }
      ]
    },
    {
      "cell_type": "markdown",
      "metadata": {
        "id": "PT0GqKm02Ckp"
      },
      "source": [
        "### Predictions are 73.16% accurate."
      ]
    },
    {
      "cell_type": "markdown",
      "metadata": {
        "id": "Xh2Y4HMh2WhT"
      },
      "source": [
        "### Visualizing Results"
      ]
    },
    {
      "cell_type": "code",
      "metadata": {
        "colab": {
          "base_uri": "https://localhost:8080/"
        },
        "id": "SAil4fOSNjCM",
        "outputId": "37cb11aa-5160-4a4f-eb45-ea0751482b4c"
      },
      "source": [
        "def plot_confusion_matrix(cm, classes,\n",
        "                          normalize=False,\n",
        "                          title='Confusion matrix',\n",
        "                          cmap=plt.cm.Greens):\n",
        "    \"\"\"\n",
        "    This function prints and plots the confusion matrix.\n",
        "    Normalization can be applied by setting `normalize=True`.\n",
        "    \"\"\"\n",
        "    if normalize:\n",
        "        cm = cm.astype('float') / cm.sum(axis=1)[:, np.newaxis]\n",
        "        print(\"Normalized confusion matrix\")\n",
        "    else:\n",
        "        print('Confusion matrix, without normalization')\n",
        "\n",
        "    print(cm)\n",
        "\n",
        "    plt.imshow(cm, interpolation='nearest', cmap=cmap)\n",
        "    plt.title(title)\n",
        "    plt.colorbar()\n",
        "    tick_marks = np.arange(len(classes))\n",
        "    plt.xticks(tick_marks, classes, rotation=45)\n",
        "    plt.yticks(tick_marks, classes)\n",
        "\n",
        "    fmt = '.2f' if normalize else 'd'\n",
        "    thresh = cm.max() / 2.\n",
        "    for i, j in itertools.product(range(cm.shape[0]), range(cm.shape[1])):\n",
        "        plt.text(j, i, format(cm[i, j], fmt),\n",
        "                 horizontalalignment=\"center\",\n",
        "                 color=\"white\" if cm[i, j] > thresh else \"black\")\n",
        "\n",
        "    plt.tight_layout()\n",
        "    plt.ylabel('True label')\n",
        "    plt.xlabel('Predicted label')\n",
        "    plt.grid(False)\n",
        "print(confusion_matrix(y_test, y_pred, labels=[1,0]))"
      ],
      "execution_count": 27,
      "outputs": [
        {
          "output_type": "stream",
          "text": [
            "[[ 22  52]\n",
            " [ 10 147]]\n"
          ],
          "name": "stdout"
        }
      ]
    },
    {
      "cell_type": "code",
      "metadata": {
        "colab": {
          "base_uri": "https://localhost:8080/",
          "height": 362
        },
        "id": "mVNjPsJbNnkO",
        "outputId": "728a15ac-3f10-4c25-8068-3a23e3c2be9c"
      },
      "source": [
        "# computing confusion matrix\n",
        "cnf_matrix = confusion_matrix(y_test, y_pred, labels=[1,0])\n",
        "np.set_printoptions(precision=2)\n",
        "\n",
        "# plot non-normalized confusion matrix\n",
        "plt.figure()\n",
        "plot_confusion_matrix(cnf_matrix, classes=['outcome=1','outcome=0'],normalize=False, title='Confusion matrix')"
      ],
      "execution_count": 28,
      "outputs": [
        {
          "output_type": "stream",
          "text": [
            "Confusion matrix, without normalization\n",
            "[[ 22  52]\n",
            " [ 10 147]]\n"
          ],
          "name": "stdout"
        },
        {
          "output_type": "display_data",
          "data": {
            "image/png": "[encoded data removed]",
            "text/plain": [
              "<Figure size 432x288 with 2 Axes>"
            ]
          },
          "metadata": {
            "tags": [],
            "needs_background": "light"
          }
        }
      ]
    },
    {
      "cell_type": "code",
      "metadata": {
        "colab": {
          "base_uri": "https://localhost:8080/"
        },
        "id": "4VXEN6dvPZFV",
        "outputId": "11464df4-1f2a-4b3b-f163-8fbd93e2e09a"
      },
      "source": [
        "mean_squared_error(y_test, y_pred) "
      ],
      "execution_count": 29,
      "outputs": [
        {
          "output_type": "execute_result",
          "data": {
            "text/plain": [
              "0.2683982683982684"
            ]
          },
          "metadata": {
            "tags": []
          },
          "execution_count": 29
        }
      ]
    },
    {
      "cell_type": "markdown",
      "metadata": {
        "id": "nj9HAHc8jbx7"
      },
      "source": [
        "### Getting the pkl File"
      ]
    },
    {
      "cell_type": "code",
      "metadata": {
        "colab": {
          "base_uri": "https://localhost:8080/"
        },
        "id": "-NMTcogbjXQZ",
        "outputId": "48a47258-23db-4a9a-89e2-1aea52238692"
      },
      "source": [
        "from sklearn.externals import joblib \n",
        "  \n",
        "# saving the model as a pickle in a file \n",
        "joblib.dump(model, 'Diabetes_Prediction.pkl')"
      ],
      "execution_count": 30,
      "outputs": [
        {
          "output_type": "stream",
          "text": [
            "/usr/local/lib/python3.7/dist-packages/sklearn/externals/joblib/__init__.py:15: FutureWarning: sklearn.externals.joblib is deprecated in 0.21 and will be removed in 0.23. Please import this functionality directly from joblib, which can be installed with: pip install joblib. If this warning is raised when loading pickled models, you may need to re-serialize those models with scikit-learn 0.21+.\n",
            "  warnings.warn(msg, category=FutureWarning)\n"
          ],
          "name": "stderr"
        },
        {
          "output_type": "execute_result",
          "data": {
            "text/plain": [
              "['Diabetes_Prediction.pkl']"
            ]
          },
          "metadata": {
            "tags": []
          },
          "execution_count": 30
        }
      ]
    }
  ]
}